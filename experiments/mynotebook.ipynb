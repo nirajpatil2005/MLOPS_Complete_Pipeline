{
 "cells": [
  {
   "cell_type": "markdown",
   "metadata": {},
   "source": [
    "## Basic Imports"
   ]
  },
  {
   "cell_type": "code",
   "execution_count": 2,
   "metadata": {},
   "outputs": [
    {
     "name": "stdout",
     "output_type": "stream",
     "text": [
      "Collecting xgboost\n",
      "  Downloading xgboost-3.0.2-py3-none-win_amd64.whl.metadata (2.1 kB)\n",
      "Requirement already satisfied: numpy in c:\\users\\niraj\\anaconda3\\lib\\site-packages (from xgboost) (1.26.4)\n",
      "Requirement already satisfied: scipy in c:\\users\\niraj\\anaconda3\\lib\\site-packages (from xgboost) (1.13.1)\n",
      "Downloading xgboost-3.0.2-py3-none-win_amd64.whl (150.0 MB)\n",
      "   ---------------------------------------- 0.0/150.0 MB ? eta -:--:--\n",
      "   ---------------------------------------- 0.8/150.0 MB 5.6 MB/s eta 0:00:27\n",
      "   ---------------------------------------- 1.3/150.0 MB 4.0 MB/s eta 0:00:38\n",
      "    --------------------------------------- 2.6/150.0 MB 4.7 MB/s eta 0:00:32\n",
      "   - -------------------------------------- 4.2/150.0 MB 5.6 MB/s eta 0:00:27\n",
      "   - -------------------------------------- 6.3/150.0 MB 6.5 MB/s eta 0:00:22\n",
      "   -- ------------------------------------- 8.1/150.0 MB 7.0 MB/s eta 0:00:21\n",
      "   -- ------------------------------------- 10.2/150.0 MB 7.4 MB/s eta 0:00:19\n",
      "   --- ------------------------------------ 12.8/150.0 MB 8.1 MB/s eta 0:00:17\n",
      "   ---- ----------------------------------- 16.0/150.0 MB 8.9 MB/s eta 0:00:16\n",
      "   ----- ---------------------------------- 18.9/150.0 MB 9.5 MB/s eta 0:00:14\n",
      "   ----- ---------------------------------- 19.1/150.0 MB 9.4 MB/s eta 0:00:14\n",
      "   ----- ---------------------------------- 20.7/150.0 MB 8.7 MB/s eta 0:00:15\n",
      "   ------ --------------------------------- 23.3/150.0 MB 8.9 MB/s eta 0:00:15\n",
      "   ------ --------------------------------- 25.7/150.0 MB 9.2 MB/s eta 0:00:14\n",
      "   ------- -------------------------------- 27.5/150.0 MB 9.2 MB/s eta 0:00:14\n",
      "   ------- -------------------------------- 29.1/150.0 MB 9.0 MB/s eta 0:00:14\n",
      "   ------- -------------------------------- 29.4/150.0 MB 8.8 MB/s eta 0:00:14\n",
      "   ------- -------------------------------- 29.9/150.0 MB 8.2 MB/s eta 0:00:15\n",
      "   ------- -------------------------------- 29.9/150.0 MB 8.2 MB/s eta 0:00:15\n",
      "   ------- -------------------------------- 29.9/150.0 MB 8.2 MB/s eta 0:00:15\n",
      "   ------- -------------------------------- 29.9/150.0 MB 8.2 MB/s eta 0:00:15\n",
      "   ------- -------------------------------- 29.9/150.0 MB 8.2 MB/s eta 0:00:15\n",
      "   ------- -------------------------------- 29.9/150.0 MB 8.2 MB/s eta 0:00:15\n",
      "   -------- ------------------------------- 31.5/150.0 MB 6.4 MB/s eta 0:00:19\n",
      "   -------- ------------------------------- 31.5/150.0 MB 6.4 MB/s eta 0:00:19\n",
      "   -------- ------------------------------- 31.7/150.0 MB 5.9 MB/s eta 0:00:21\n",
      "   -------- ------------------------------- 31.7/150.0 MB 5.9 MB/s eta 0:00:21\n",
      "   -------- ------------------------------- 32.0/150.0 MB 5.6 MB/s eta 0:00:22\n",
      "   -------- ------------------------------- 32.0/150.0 MB 5.6 MB/s eta 0:00:22\n",
      "   -------- ------------------------------- 32.5/150.0 MB 5.2 MB/s eta 0:00:23\n",
      "   --------- ------------------------------ 33.8/150.0 MB 5.3 MB/s eta 0:00:23\n",
      "   --------- ------------------------------ 36.2/150.0 MB 5.5 MB/s eta 0:00:21\n",
      "   ---------- ----------------------------- 38.5/150.0 MB 5.6 MB/s eta 0:00:20\n",
      "   ----------- ---------------------------- 41.4/150.0 MB 5.9 MB/s eta 0:00:19\n",
      "   ----------- ---------------------------- 43.8/150.0 MB 6.0 MB/s eta 0:00:18\n",
      "   ------------ --------------------------- 45.1/150.0 MB 6.1 MB/s eta 0:00:18\n",
      "   ------------ --------------------------- 48.2/150.0 MB 6.3 MB/s eta 0:00:17\n",
      "   ------------- -------------------------- 49.5/150.0 MB 6.3 MB/s eta 0:00:16\n",
      "   ------------- -------------------------- 51.1/150.0 MB 6.3 MB/s eta 0:00:16\n",
      "   ------------- -------------------------- 51.1/150.0 MB 6.3 MB/s eta 0:00:16\n",
      "   ------------- -------------------------- 51.1/150.0 MB 6.3 MB/s eta 0:00:16\n",
      "   ------------- -------------------------- 51.4/150.0 MB 6.0 MB/s eta 0:00:17\n",
      "   ------------- -------------------------- 51.6/150.0 MB 5.8 MB/s eta 0:00:17\n",
      "   ------------- -------------------------- 51.6/150.0 MB 5.8 MB/s eta 0:00:17\n",
      "   ------------- -------------------------- 51.6/150.0 MB 5.8 MB/s eta 0:00:17\n",
      "   ------------- -------------------------- 51.6/150.0 MB 5.8 MB/s eta 0:00:17\n",
      "   ------------- -------------------------- 52.4/150.0 MB 5.3 MB/s eta 0:00:19\n",
      "   -------------- ------------------------- 53.7/150.0 MB 5.3 MB/s eta 0:00:19\n",
      "   -------------- ------------------------- 56.1/150.0 MB 5.5 MB/s eta 0:00:18\n",
      "   --------------- ------------------------ 57.7/150.0 MB 5.5 MB/s eta 0:00:17\n",
      "   --------------- ------------------------ 59.8/150.0 MB 5.6 MB/s eta 0:00:17\n",
      "   ---------------- ----------------------- 60.8/150.0 MB 5.6 MB/s eta 0:00:16\n",
      "   ---------------- ----------------------- 62.1/150.0 MB 5.6 MB/s eta 0:00:16\n",
      "   ---------------- ----------------------- 62.1/150.0 MB 5.6 MB/s eta 0:00:16\n",
      "   ---------------- ----------------------- 62.4/150.0 MB 5.4 MB/s eta 0:00:17\n",
      "   ---------------- ----------------------- 62.4/150.0 MB 5.4 MB/s eta 0:00:17\n",
      "   ---------------- ----------------------- 62.7/150.0 MB 5.3 MB/s eta 0:00:17\n",
      "   ----------------- ---------------------- 64.0/150.0 MB 5.2 MB/s eta 0:00:17\n",
      "   ----------------- ---------------------- 65.8/150.0 MB 5.3 MB/s eta 0:00:16\n",
      "   ----------------- ---------------------- 66.8/150.0 MB 5.3 MB/s eta 0:00:16\n",
      "   ----------------- ---------------------- 66.8/150.0 MB 5.3 MB/s eta 0:00:16\n",
      "   ----------------- ---------------------- 67.1/150.0 MB 5.2 MB/s eta 0:00:16\n",
      "   ------------------ --------------------- 67.9/150.0 MB 5.2 MB/s eta 0:00:16\n",
      "   ------------------ --------------------- 69.2/150.0 MB 5.2 MB/s eta 0:00:16\n",
      "   ------------------ --------------------- 70.3/150.0 MB 5.1 MB/s eta 0:00:16\n",
      "   ------------------- -------------------- 71.6/150.0 MB 5.2 MB/s eta 0:00:16\n",
      "   ------------------- -------------------- 72.6/150.0 MB 5.2 MB/s eta 0:00:15\n",
      "   ------------------- -------------------- 74.7/150.0 MB 5.2 MB/s eta 0:00:15\n",
      "   -------------------- ------------------- 76.5/150.0 MB 5.3 MB/s eta 0:00:14\n",
      "   -------------------- ------------------- 78.1/150.0 MB 5.3 MB/s eta 0:00:14\n",
      "   --------------------- ------------------ 79.4/150.0 MB 5.4 MB/s eta 0:00:14\n",
      "   --------------------- ------------------ 81.0/150.0 MB 5.4 MB/s eta 0:00:13\n",
      "   --------------------- ------------------ 82.3/150.0 MB 5.4 MB/s eta 0:00:13\n",
      "   ---------------------- ----------------- 83.4/150.0 MB 5.4 MB/s eta 0:00:13\n",
      "   ---------------------- ----------------- 84.9/150.0 MB 5.4 MB/s eta 0:00:13\n",
      "   ----------------------- ---------------- 86.8/150.0 MB 5.4 MB/s eta 0:00:12\n",
      "   ----------------------- ---------------- 87.8/150.0 MB 5.4 MB/s eta 0:00:12\n",
      "   ------------------------ --------------- 90.2/150.0 MB 5.5 MB/s eta 0:00:11\n",
      "   ------------------------ --------------- 92.5/150.0 MB 5.6 MB/s eta 0:00:11\n",
      "   ------------------------- -------------- 94.1/150.0 MB 5.6 MB/s eta 0:00:10\n",
      "   ------------------------- -------------- 95.9/150.0 MB 5.7 MB/s eta 0:00:10\n",
      "   -------------------------- ------------- 98.8/150.0 MB 5.7 MB/s eta 0:00:09\n",
      "   -------------------------- ------------- 100.9/150.0 MB 5.8 MB/s eta 0:00:09\n",
      "   --------------------------- ------------ 102.2/150.0 MB 5.8 MB/s eta 0:00:09\n",
      "   --------------------------- ------------ 103.5/150.0 MB 5.8 MB/s eta 0:00:08\n",
      "   ---------------------------- ----------- 105.4/150.0 MB 5.8 MB/s eta 0:00:08\n",
      "   ---------------------------- ----------- 106.2/150.0 MB 5.8 MB/s eta 0:00:08\n",
      "   ---------------------------- ----------- 106.2/150.0 MB 5.8 MB/s eta 0:00:08\n",
      "   ---------------------------- ----------- 106.2/150.0 MB 5.8 MB/s eta 0:00:08\n",
      "   ---------------------------- ----------- 106.4/150.0 MB 5.7 MB/s eta 0:00:08\n",
      "   ---------------------------- ----------- 107.7/150.0 MB 5.6 MB/s eta 0:00:08\n",
      "   ----------------------------- ---------- 109.1/150.0 MB 5.6 MB/s eta 0:00:08\n",
      "   ----------------------------- ---------- 109.8/150.0 MB 5.6 MB/s eta 0:00:08\n",
      "   ----------------------------- ---------- 110.1/150.0 MB 5.6 MB/s eta 0:00:08\n",
      "   ----------------------------- ---------- 110.9/150.0 MB 5.6 MB/s eta 0:00:08\n",
      "   ----------------------------- ---------- 110.9/150.0 MB 5.6 MB/s eta 0:00:08\n",
      "   ----------------------------- ---------- 111.1/150.0 MB 5.5 MB/s eta 0:00:08\n",
      "   ----------------------------- ---------- 111.4/150.0 MB 5.4 MB/s eta 0:00:08\n",
      "   ----------------------------- ---------- 111.9/150.0 MB 5.4 MB/s eta 0:00:08\n",
      "   ------------------------------ --------- 112.7/150.0 MB 5.4 MB/s eta 0:00:07\n",
      "   ------------------------------ --------- 113.5/150.0 MB 5.3 MB/s eta 0:00:07\n",
      "   ------------------------------ --------- 114.3/150.0 MB 5.3 MB/s eta 0:00:07\n",
      "   ------------------------------ --------- 115.6/150.0 MB 5.3 MB/s eta 0:00:07\n",
      "   ------------------------------- -------- 116.4/150.0 MB 5.3 MB/s eta 0:00:07\n",
      "   ------------------------------- -------- 117.2/150.0 MB 5.3 MB/s eta 0:00:07\n",
      "   ------------------------------- -------- 118.8/150.0 MB 5.3 MB/s eta 0:00:06\n",
      "   ------------------------------- -------- 119.3/150.0 MB 5.3 MB/s eta 0:00:06\n",
      "   -------------------------------- ------- 120.3/150.0 MB 5.3 MB/s eta 0:00:06\n",
      "   -------------------------------- ------- 121.6/150.0 MB 5.3 MB/s eta 0:00:06\n",
      "   -------------------------------- ------- 122.4/150.0 MB 5.3 MB/s eta 0:00:06\n",
      "   -------------------------------- ------- 123.2/150.0 MB 5.3 MB/s eta 0:00:06\n",
      "   --------------------------------- ------ 124.0/150.0 MB 5.3 MB/s eta 0:00:05\n",
      "   --------------------------------- ------ 124.8/150.0 MB 5.2 MB/s eta 0:00:05\n",
      "   --------------------------------- ------ 125.8/150.0 MB 5.2 MB/s eta 0:00:05\n",
      "   --------------------------------- ------ 126.9/150.0 MB 5.2 MB/s eta 0:00:05\n",
      "   ---------------------------------- ----- 127.7/150.0 MB 5.2 MB/s eta 0:00:05\n",
      "   ---------------------------------- ----- 128.2/150.0 MB 5.2 MB/s eta 0:00:05\n",
      "   ---------------------------------- ----- 130.0/150.0 MB 5.2 MB/s eta 0:00:04\n",
      "   ---------------------------------- ----- 131.1/150.0 MB 5.2 MB/s eta 0:00:04\n",
      "   ----------------------------------- ---- 132.1/150.0 MB 5.2 MB/s eta 0:00:04\n",
      "   ----------------------------------- ---- 133.2/150.0 MB 5.2 MB/s eta 0:00:04\n",
      "   ------------------------------------ --- 135.0/150.0 MB 5.2 MB/s eta 0:00:03\n",
      "   ------------------------------------ --- 136.1/150.0 MB 5.3 MB/s eta 0:00:03\n",
      "   ------------------------------------ --- 137.6/150.0 MB 5.3 MB/s eta 0:00:03\n",
      "   ------------------------------------- -- 139.2/150.0 MB 5.3 MB/s eta 0:00:03\n",
      "   ------------------------------------- -- 140.2/150.0 MB 5.3 MB/s eta 0:00:02\n",
      "   ------------------------------------- -- 141.3/150.0 MB 5.3 MB/s eta 0:00:02\n",
      "   ------------------------------------- -- 142.3/150.0 MB 5.3 MB/s eta 0:00:02\n",
      "   -------------------------------------- - 143.7/150.0 MB 5.3 MB/s eta 0:00:02\n",
      "   -------------------------------------- - 145.5/150.0 MB 5.3 MB/s eta 0:00:01\n",
      "   ---------------------------------------  147.3/150.0 MB 5.3 MB/s eta 0:00:01\n",
      "   ---------------------------------------  148.9/150.0 MB 5.3 MB/s eta 0:00:01\n",
      "   ---------------------------------------  149.9/150.0 MB 5.4 MB/s eta 0:00:01\n",
      "   ---------------------------------------  149.9/150.0 MB 5.4 MB/s eta 0:00:01\n",
      "   ---------------------------------------- 150.0/150.0 MB 5.3 MB/s eta 0:00:00\n",
      "Installing collected packages: xgboost\n",
      "Successfully installed xgboost-3.0.2\n",
      "Note: you may need to restart the kernel to use updated packages.\n"
     ]
    }
   ],
   "source": [
    "pip install xgboost"
   ]
  },
  {
   "cell_type": "code",
   "execution_count": 1,
   "metadata": {},
   "outputs": [
    {
     "name": "stdout",
     "output_type": "stream",
     "text": [
      "Collecting wordcloud\n",
      "  Using cached wordcloud-1.9.4-cp312-cp312-win_amd64.whl.metadata (3.5 kB)\n",
      "Requirement already satisfied: numpy>=1.6.1 in c:\\users\\niraj\\anaconda3\\lib\\site-packages (from wordcloud) (1.26.4)\n",
      "Requirement already satisfied: pillow in c:\\users\\niraj\\anaconda3\\lib\\site-packages (from wordcloud) (10.4.0)\n",
      "Requirement already satisfied: matplotlib in c:\\users\\niraj\\anaconda3\\lib\\site-packages (from wordcloud) (3.9.2)\n",
      "Requirement already satisfied: contourpy>=1.0.1 in c:\\users\\niraj\\anaconda3\\lib\\site-packages (from matplotlib->wordcloud) (1.2.0)\n",
      "Requirement already satisfied: cycler>=0.10 in c:\\users\\niraj\\anaconda3\\lib\\site-packages (from matplotlib->wordcloud) (0.11.0)\n",
      "Requirement already satisfied: fonttools>=4.22.0 in c:\\users\\niraj\\anaconda3\\lib\\site-packages (from matplotlib->wordcloud) (4.51.0)\n",
      "Requirement already satisfied: kiwisolver>=1.3.1 in c:\\users\\niraj\\anaconda3\\lib\\site-packages (from matplotlib->wordcloud) (1.4.4)\n",
      "Requirement already satisfied: packaging>=20.0 in c:\\users\\niraj\\anaconda3\\lib\\site-packages (from matplotlib->wordcloud) (24.1)\n",
      "Requirement already satisfied: pyparsing>=2.3.1 in c:\\users\\niraj\\anaconda3\\lib\\site-packages (from matplotlib->wordcloud) (3.1.2)\n",
      "Requirement already satisfied: python-dateutil>=2.7 in c:\\users\\niraj\\anaconda3\\lib\\site-packages (from matplotlib->wordcloud) (2.9.0.post0)\n",
      "Requirement already satisfied: six>=1.5 in c:\\users\\niraj\\anaconda3\\lib\\site-packages (from python-dateutil>=2.7->matplotlib->wordcloud) (1.16.0)\n",
      "Using cached wordcloud-1.9.4-cp312-cp312-win_amd64.whl (301 kB)\n",
      "Installing collected packages: wordcloud\n",
      "Successfully installed wordcloud-1.9.4\n",
      "Note: you may need to restart the kernel to use updated packages.\n"
     ]
    }
   ],
   "source": [
    "pip install wordcloud"
   ]
  },
  {
   "cell_type": "code",
   "execution_count": 3,
   "metadata": {},
   "outputs": [
    {
     "name": "stderr",
     "output_type": "stream",
     "text": [
      "[nltk_data] Downloading package stopwords to\n",
      "[nltk_data]     C:\\Users\\Personal\\AppData\\Roaming\\nltk_data...\n",
      "[nltk_data]   Package stopwords is already up-to-date!\n",
      "[nltk_data] Downloading package punkt to\n",
      "[nltk_data]     C:\\Users\\Personal\\AppData\\Roaming\\nltk_data...\n",
      "[nltk_data]   Package punkt is already up-to-date!\n"
     ]
    },
    {
     "data": {
      "text/plain": [
       "True"
      ]
     },
     "execution_count": 3,
     "metadata": {},
     "output_type": "execute_result"
    }
   ],
   "source": [
    "# Importing necessary libraries\n",
    "import numpy as np        # For numerical operations\n",
    "import pandas as pd       # For data manipulation and analysis\n",
    "import matplotlib.pyplot as plt  # For data visualization\n",
    "%matplotlib inline\n",
    "\n",
    "# Importing WordCloud for text visualization\n",
    "from wordcloud import WordCloud\n",
    "\n",
    "# Importing NLTK for natural language processing\n",
    "import nltk\n",
    "from nltk.corpus import stopwords    # For stopwords\n",
    "\n",
    "\n",
    "# Downloading NLTK data\n",
    "nltk.download('stopwords')   # Downloading stopwords data\n",
    "nltk.download('punkt')       # Downloading tokenizer data"
   ]
  },
  {
   "cell_type": "code",
   "execution_count": 4,
   "metadata": {},
   "outputs": [
    {
     "data": {
      "text/html": [
       "<div>\n",
       "<style scoped>\n",
       "    .dataframe tbody tr th:only-of-type {\n",
       "        vertical-align: middle;\n",
       "    }\n",
       "\n",
       "    .dataframe tbody tr th {\n",
       "        vertical-align: top;\n",
       "    }\n",
       "\n",
       "    .dataframe thead th {\n",
       "        text-align: right;\n",
       "    }\n",
       "</style>\n",
       "<table border=\"1\" class=\"dataframe\">\n",
       "  <thead>\n",
       "    <tr style=\"text-align: right;\">\n",
       "      <th></th>\n",
       "      <th>v1</th>\n",
       "      <th>v2</th>\n",
       "      <th>Unnamed: 2</th>\n",
       "      <th>Unnamed: 3</th>\n",
       "      <th>Unnamed: 4</th>\n",
       "    </tr>\n",
       "  </thead>\n",
       "  <tbody>\n",
       "    <tr>\n",
       "      <th>0</th>\n",
       "      <td>ham</td>\n",
       "      <td>Go until jurong point, crazy.. Available only ...</td>\n",
       "      <td>NaN</td>\n",
       "      <td>NaN</td>\n",
       "      <td>NaN</td>\n",
       "    </tr>\n",
       "    <tr>\n",
       "      <th>1</th>\n",
       "      <td>ham</td>\n",
       "      <td>Ok lar... Joking wif u oni...</td>\n",
       "      <td>NaN</td>\n",
       "      <td>NaN</td>\n",
       "      <td>NaN</td>\n",
       "    </tr>\n",
       "    <tr>\n",
       "      <th>2</th>\n",
       "      <td>spam</td>\n",
       "      <td>Free entry in 2 a wkly comp to win FA Cup fina...</td>\n",
       "      <td>NaN</td>\n",
       "      <td>NaN</td>\n",
       "      <td>NaN</td>\n",
       "    </tr>\n",
       "    <tr>\n",
       "      <th>3</th>\n",
       "      <td>ham</td>\n",
       "      <td>U dun say so early hor... U c already then say...</td>\n",
       "      <td>NaN</td>\n",
       "      <td>NaN</td>\n",
       "      <td>NaN</td>\n",
       "    </tr>\n",
       "    <tr>\n",
       "      <th>4</th>\n",
       "      <td>ham</td>\n",
       "      <td>Nah I don't think he goes to usf, he lives aro...</td>\n",
       "      <td>NaN</td>\n",
       "      <td>NaN</td>\n",
       "      <td>NaN</td>\n",
       "    </tr>\n",
       "  </tbody>\n",
       "</table>\n",
       "</div>"
      ],
      "text/plain": [
       "     v1                                                 v2 Unnamed: 2  \\\n",
       "0   ham  Go until jurong point, crazy.. Available only ...        NaN   \n",
       "1   ham                      Ok lar... Joking wif u oni...        NaN   \n",
       "2  spam  Free entry in 2 a wkly comp to win FA Cup fina...        NaN   \n",
       "3   ham  U dun say so early hor... U c already then say...        NaN   \n",
       "4   ham  Nah I don't think he goes to usf, he lives aro...        NaN   \n",
       "\n",
       "  Unnamed: 3 Unnamed: 4  \n",
       "0        NaN        NaN  \n",
       "1        NaN        NaN  \n",
       "2        NaN        NaN  \n",
       "3        NaN        NaN  \n",
       "4        NaN        NaN  "
      ]
     },
     "execution_count": 4,
     "metadata": {},
     "output_type": "execute_result"
    }
   ],
   "source": [
    "# Read the CSV file\n",
    "df = pd.read_csv('spam.csv')\n",
    "\n",
    "# Display the first few rows of the DataFrame\n",
    "df.head()"
   ]
  },
  {
   "cell_type": "code",
   "execution_count": 5,
   "metadata": {},
   "outputs": [
    {
     "data": {
      "text/html": [
       "<div>\n",
       "<style scoped>\n",
       "    .dataframe tbody tr th:only-of-type {\n",
       "        vertical-align: middle;\n",
       "    }\n",
       "\n",
       "    .dataframe tbody tr th {\n",
       "        vertical-align: top;\n",
       "    }\n",
       "\n",
       "    .dataframe thead th {\n",
       "        text-align: right;\n",
       "    }\n",
       "</style>\n",
       "<table border=\"1\" class=\"dataframe\">\n",
       "  <thead>\n",
       "    <tr style=\"text-align: right;\">\n",
       "      <th></th>\n",
       "      <th>v1</th>\n",
       "      <th>v2</th>\n",
       "    </tr>\n",
       "  </thead>\n",
       "  <tbody>\n",
       "    <tr>\n",
       "      <th>0</th>\n",
       "      <td>ham</td>\n",
       "      <td>Go until jurong point, crazy.. Available only ...</td>\n",
       "    </tr>\n",
       "    <tr>\n",
       "      <th>1</th>\n",
       "      <td>ham</td>\n",
       "      <td>Ok lar... Joking wif u oni...</td>\n",
       "    </tr>\n",
       "    <tr>\n",
       "      <th>2</th>\n",
       "      <td>spam</td>\n",
       "      <td>Free entry in 2 a wkly comp to win FA Cup fina...</td>\n",
       "    </tr>\n",
       "    <tr>\n",
       "      <th>3</th>\n",
       "      <td>ham</td>\n",
       "      <td>U dun say so early hor... U c already then say...</td>\n",
       "    </tr>\n",
       "    <tr>\n",
       "      <th>4</th>\n",
       "      <td>ham</td>\n",
       "      <td>Nah I don't think he goes to usf, he lives aro...</td>\n",
       "    </tr>\n",
       "  </tbody>\n",
       "</table>\n",
       "</div>"
      ],
      "text/plain": [
       "     v1                                                 v2\n",
       "0   ham  Go until jurong point, crazy.. Available only ...\n",
       "1   ham                      Ok lar... Joking wif u oni...\n",
       "2  spam  Free entry in 2 a wkly comp to win FA Cup fina...\n",
       "3   ham  U dun say so early hor... U c already then say...\n",
       "4   ham  Nah I don't think he goes to usf, he lives aro..."
      ]
     },
     "execution_count": 5,
     "metadata": {},
     "output_type": "execute_result"
    }
   ],
   "source": [
    "df.drop(columns = ['Unnamed: 2', 'Unnamed: 3', 'Unnamed: 4'], inplace = True)\n",
    "df.head()"
   ]
  },
  {
   "cell_type": "code",
   "execution_count": 6,
   "metadata": {},
   "outputs": [
    {
     "data": {
      "text/html": [
       "<div>\n",
       "<style scoped>\n",
       "    .dataframe tbody tr th:only-of-type {\n",
       "        vertical-align: middle;\n",
       "    }\n",
       "\n",
       "    .dataframe tbody tr th {\n",
       "        vertical-align: top;\n",
       "    }\n",
       "\n",
       "    .dataframe thead th {\n",
       "        text-align: right;\n",
       "    }\n",
       "</style>\n",
       "<table border=\"1\" class=\"dataframe\">\n",
       "  <thead>\n",
       "    <tr style=\"text-align: right;\">\n",
       "      <th></th>\n",
       "      <th>target</th>\n",
       "      <th>text</th>\n",
       "    </tr>\n",
       "  </thead>\n",
       "  <tbody>\n",
       "    <tr>\n",
       "      <th>0</th>\n",
       "      <td>ham</td>\n",
       "      <td>Go until jurong point, crazy.. Available only ...</td>\n",
       "    </tr>\n",
       "    <tr>\n",
       "      <th>1</th>\n",
       "      <td>ham</td>\n",
       "      <td>Ok lar... Joking wif u oni...</td>\n",
       "    </tr>\n",
       "    <tr>\n",
       "      <th>2</th>\n",
       "      <td>spam</td>\n",
       "      <td>Free entry in 2 a wkly comp to win FA Cup fina...</td>\n",
       "    </tr>\n",
       "    <tr>\n",
       "      <th>3</th>\n",
       "      <td>ham</td>\n",
       "      <td>U dun say so early hor... U c already then say...</td>\n",
       "    </tr>\n",
       "    <tr>\n",
       "      <th>4</th>\n",
       "      <td>ham</td>\n",
       "      <td>Nah I don't think he goes to usf, he lives aro...</td>\n",
       "    </tr>\n",
       "  </tbody>\n",
       "</table>\n",
       "</div>"
      ],
      "text/plain": [
       "  target                                               text\n",
       "0    ham  Go until jurong point, crazy.. Available only ...\n",
       "1    ham                      Ok lar... Joking wif u oni...\n",
       "2   spam  Free entry in 2 a wkly comp to win FA Cup fina...\n",
       "3    ham  U dun say so early hor... U c already then say...\n",
       "4    ham  Nah I don't think he goes to usf, he lives aro..."
      ]
     },
     "execution_count": 6,
     "metadata": {},
     "output_type": "execute_result"
    }
   ],
   "source": [
    "# Rename the columns name\n",
    "df.rename(columns = {'v1': 'target', 'v2': 'text'}, inplace = True)\n",
    "df.head()"
   ]
  },
  {
   "cell_type": "markdown",
   "metadata": {},
   "source": [
    "## Data Preprocessing"
   ]
  },
  {
   "cell_type": "code",
   "execution_count": 7,
   "metadata": {},
   "outputs": [
    {
     "data": {
      "text/html": [
       "<div>\n",
       "<style scoped>\n",
       "    .dataframe tbody tr th:only-of-type {\n",
       "        vertical-align: middle;\n",
       "    }\n",
       "\n",
       "    .dataframe tbody tr th {\n",
       "        vertical-align: top;\n",
       "    }\n",
       "\n",
       "    .dataframe thead th {\n",
       "        text-align: right;\n",
       "    }\n",
       "</style>\n",
       "<table border=\"1\" class=\"dataframe\">\n",
       "  <thead>\n",
       "    <tr style=\"text-align: right;\">\n",
       "      <th></th>\n",
       "      <th>target</th>\n",
       "      <th>text</th>\n",
       "    </tr>\n",
       "  </thead>\n",
       "  <tbody>\n",
       "    <tr>\n",
       "      <th>0</th>\n",
       "      <td>0</td>\n",
       "      <td>Go until jurong point, crazy.. Available only ...</td>\n",
       "    </tr>\n",
       "    <tr>\n",
       "      <th>1</th>\n",
       "      <td>0</td>\n",
       "      <td>Ok lar... Joking wif u oni...</td>\n",
       "    </tr>\n",
       "    <tr>\n",
       "      <th>2</th>\n",
       "      <td>1</td>\n",
       "      <td>Free entry in 2 a wkly comp to win FA Cup fina...</td>\n",
       "    </tr>\n",
       "    <tr>\n",
       "      <th>3</th>\n",
       "      <td>0</td>\n",
       "      <td>U dun say so early hor... U c already then say...</td>\n",
       "    </tr>\n",
       "    <tr>\n",
       "      <th>4</th>\n",
       "      <td>0</td>\n",
       "      <td>Nah I don't think he goes to usf, he lives aro...</td>\n",
       "    </tr>\n",
       "  </tbody>\n",
       "</table>\n",
       "</div>"
      ],
      "text/plain": [
       "   target                                               text\n",
       "0       0  Go until jurong point, crazy.. Available only ...\n",
       "1       0                      Ok lar... Joking wif u oni...\n",
       "2       1  Free entry in 2 a wkly comp to win FA Cup fina...\n",
       "3       0  U dun say so early hor... U c already then say...\n",
       "4       0  Nah I don't think he goes to usf, he lives aro..."
      ]
     },
     "execution_count": 7,
     "metadata": {},
     "output_type": "execute_result"
    }
   ],
   "source": [
    "from sklearn.preprocessing import LabelEncoder\n",
    "\n",
    "encoder = LabelEncoder()\n",
    "df['target'] = encoder.fit_transform(df['target'])\n",
    "\n",
    "df.head()"
   ]
  },
  {
   "cell_type": "code",
   "execution_count": 8,
   "metadata": {},
   "outputs": [
    {
     "data": {
      "text/plain": [
       "403"
      ]
     },
     "execution_count": 8,
     "metadata": {},
     "output_type": "execute_result"
    }
   ],
   "source": [
    "#check duplicate values\n",
    "df.duplicated().sum()"
   ]
  },
  {
   "cell_type": "code",
   "execution_count": 9,
   "metadata": {},
   "outputs": [
    {
     "data": {
      "text/plain": [
       "5572"
      ]
     },
     "execution_count": 9,
     "metadata": {},
     "output_type": "execute_result"
    }
   ],
   "source": [
    "len(df)"
   ]
  },
  {
   "cell_type": "code",
   "execution_count": 10,
   "metadata": {},
   "outputs": [
    {
     "data": {
      "text/plain": [
       "5169"
      ]
     },
     "execution_count": 10,
     "metadata": {},
     "output_type": "execute_result"
    }
   ],
   "source": [
    "#remove Duplicate\n",
    "df = df.drop_duplicates(keep = 'first')\n",
    "len(df)"
   ]
  },
  {
   "cell_type": "markdown",
   "metadata": {},
   "source": [
    "## Feature Engg"
   ]
  },
  {
   "cell_type": "code",
   "execution_count": 11,
   "metadata": {},
   "outputs": [],
   "source": [
    "# Importing the Porter Stemmer for text stemming\n",
    "from nltk.stem.porter import PorterStemmer\n",
    "\n",
    "# Importing the string module for handling special characters\n",
    "import string\n",
    "\n",
    "# Creating an instance of the Porter Stemmer\n",
    "ps = PorterStemmer()"
   ]
  },
  {
   "cell_type": "code",
   "execution_count": 12,
   "metadata": {},
   "outputs": [],
   "source": [
    "# Lowercase transformation and text preprocessing function\n",
    "def transform_text(text):\n",
    "    # Transform the text to lowercase\n",
    "    text = text.lower()\n",
    "    \n",
    "    # Tokenization using NLTK\n",
    "    text = nltk.word_tokenize(text)\n",
    "    \n",
    "    # Removing special characters\n",
    "    y = []\n",
    "    for i in text:\n",
    "        if i.isalnum():\n",
    "            y.append(i)\n",
    "            \n",
    "    # Removing stop words and punctuation\n",
    "    text = y[:]\n",
    "    y.clear()\n",
    "    \n",
    "    # Loop through the tokens and remove stopwords and punctuation\n",
    "    for i in text:\n",
    "        if i not in stopwords.words('english') and i not in string.punctuation:\n",
    "            y.append(i)\n",
    "        \n",
    "    # Stemming using Porter Stemmer\n",
    "    text = y[:]\n",
    "    y.clear()\n",
    "    for i in text:\n",
    "        y.append(ps.stem(i))\n",
    "    \n",
    "    # Join the processed tokens back into a single string\n",
    "    return \" \".join(y)"
   ]
  },
  {
   "cell_type": "code",
   "execution_count": 13,
   "metadata": {},
   "outputs": [
    {
     "data": {
      "text/plain": [
       "'go jurong point crazi avail bugi n great world la e buffet cine got amor wat'"
      ]
     },
     "execution_count": 13,
     "metadata": {},
     "output_type": "execute_result"
    }
   ],
   "source": [
    "transform_text('Go until jurong point, crazy.. Available only in bugis n great world la e buffet... Cine there got amore wat...')"
   ]
  },
  {
   "cell_type": "code",
   "execution_count": 14,
   "metadata": {},
   "outputs": [
    {
     "data": {
      "text/html": [
       "<div>\n",
       "<style scoped>\n",
       "    .dataframe tbody tr th:only-of-type {\n",
       "        vertical-align: middle;\n",
       "    }\n",
       "\n",
       "    .dataframe tbody tr th {\n",
       "        vertical-align: top;\n",
       "    }\n",
       "\n",
       "    .dataframe thead th {\n",
       "        text-align: right;\n",
       "    }\n",
       "</style>\n",
       "<table border=\"1\" class=\"dataframe\">\n",
       "  <thead>\n",
       "    <tr style=\"text-align: right;\">\n",
       "      <th></th>\n",
       "      <th>target</th>\n",
       "      <th>text</th>\n",
       "      <th>transformed_text</th>\n",
       "    </tr>\n",
       "  </thead>\n",
       "  <tbody>\n",
       "    <tr>\n",
       "      <th>0</th>\n",
       "      <td>0</td>\n",
       "      <td>Go until jurong point, crazy.. Available only ...</td>\n",
       "      <td>go jurong point crazi avail bugi n great world...</td>\n",
       "    </tr>\n",
       "    <tr>\n",
       "      <th>1</th>\n",
       "      <td>0</td>\n",
       "      <td>Ok lar... Joking wif u oni...</td>\n",
       "      <td>ok lar joke wif u oni</td>\n",
       "    </tr>\n",
       "    <tr>\n",
       "      <th>2</th>\n",
       "      <td>1</td>\n",
       "      <td>Free entry in 2 a wkly comp to win FA Cup fina...</td>\n",
       "      <td>free entri 2 wkli comp win fa cup final tkt 21...</td>\n",
       "    </tr>\n",
       "    <tr>\n",
       "      <th>3</th>\n",
       "      <td>0</td>\n",
       "      <td>U dun say so early hor... U c already then say...</td>\n",
       "      <td>u dun say earli hor u c alreadi say</td>\n",
       "    </tr>\n",
       "    <tr>\n",
       "      <th>4</th>\n",
       "      <td>0</td>\n",
       "      <td>Nah I don't think he goes to usf, he lives aro...</td>\n",
       "      <td>nah think goe usf live around though</td>\n",
       "    </tr>\n",
       "  </tbody>\n",
       "</table>\n",
       "</div>"
      ],
      "text/plain": [
       "   target                                               text  \\\n",
       "0       0  Go until jurong point, crazy.. Available only ...   \n",
       "1       0                      Ok lar... Joking wif u oni...   \n",
       "2       1  Free entry in 2 a wkly comp to win FA Cup fina...   \n",
       "3       0  U dun say so early hor... U c already then say...   \n",
       "4       0  Nah I don't think he goes to usf, he lives aro...   \n",
       "\n",
       "                                    transformed_text  \n",
       "0  go jurong point crazi avail bugi n great world...  \n",
       "1                              ok lar joke wif u oni  \n",
       "2  free entri 2 wkli comp win fa cup final tkt 21...  \n",
       "3                u dun say earli hor u c alreadi say  \n",
       "4               nah think goe usf live around though  "
      ]
     },
     "execution_count": 14,
     "metadata": {},
     "output_type": "execute_result"
    }
   ],
   "source": [
    "df['transformed_text'] = df['text'].apply(transform_text)\n",
    "df.head()"
   ]
  },
  {
   "cell_type": "code",
   "execution_count": 15,
   "metadata": {},
   "outputs": [],
   "source": [
    "from sklearn.feature_extraction.text import CountVectorizer, TfidfVectorizer\n",
    "tfid = TfidfVectorizer(max_features = 500)"
   ]
  },
  {
   "cell_type": "code",
   "execution_count": 16,
   "metadata": {},
   "outputs": [],
   "source": [
    "X = tfid.fit_transform(df['transformed_text']).toarray()\n",
    "y = df['target'].values"
   ]
  },
  {
   "cell_type": "markdown",
   "metadata": {},
   "source": [
    "## Train Test Split"
   ]
  },
  {
   "cell_type": "code",
   "execution_count": 17,
   "metadata": {},
   "outputs": [],
   "source": [
    "from sklearn.model_selection import train_test_split\n",
    "X_train, X_test , y_train, y_test = train_test_split(X,y,test_size = 0.20, random_state = 2)"
   ]
  },
  {
   "cell_type": "markdown",
   "metadata": {},
   "source": [
    "## Model Training"
   ]
  },
  {
   "cell_type": "code",
   "execution_count": 18,
   "metadata": {},
   "outputs": [],
   "source": [
    "from sklearn.linear_model import LogisticRegression\n",
    "from sklearn.svm import SVC\n",
    "from sklearn.naive_bayes import MultinomialNB\n",
    "from sklearn.tree import DecisionTreeClassifier\n",
    "from sklearn.neighbors import KNeighborsClassifier\n",
    "from sklearn.ensemble import RandomForestClassifier\n",
    "from sklearn.ensemble import AdaBoostClassifier\n",
    "from sklearn.ensemble import BaggingClassifier\n",
    "from sklearn.ensemble import ExtraTreesClassifier\n",
    "from sklearn.ensemble import GradientBoostingClassifier\n",
    "from xgboost import XGBClassifier"
   ]
  },
  {
   "cell_type": "code",
   "execution_count": 19,
   "metadata": {},
   "outputs": [],
   "source": [
    "svc = SVC(kernel= \"sigmoid\", gamma  = 1.0)\n",
    "knc = KNeighborsClassifier()\n",
    "mnb = MultinomialNB()\n",
    "dtc = DecisionTreeClassifier(max_depth = 5)\n",
    "lrc = LogisticRegression(solver = 'liblinear', penalty = 'l1')\n",
    "rfc = RandomForestClassifier(n_estimators = 50, random_state = 2 )\n",
    "abc = AdaBoostClassifier(n_estimators = 50, random_state = 2)\n",
    "bc = BaggingClassifier(n_estimators = 50, random_state = 2)\n",
    "etc = ExtraTreesClassifier(n_estimators = 50, random_state = 2)\n",
    "gbdt = GradientBoostingClassifier(n_estimators = 50, random_state = 2)    \n",
    "xgb  = XGBClassifier(n_estimators = 50, random_state = 2)"
   ]
  },
  {
   "cell_type": "code",
   "execution_count": 20,
   "metadata": {},
   "outputs": [],
   "source": [
    "clfs = {\n",
    "    'SVC': svc,\n",
    "    'KNN': knc,\n",
    "    'NB': mnb,\n",
    "    'DT': dtc,\n",
    "    'LR': lrc,\n",
    "    'RF': rfc,\n",
    "    'Adaboost': abc,\n",
    "    'Bgc': bc,\n",
    "    'ETC': etc,\n",
    "    'GBDT': gbdt,\n",
    "    'xgb': xgb\n",
    "    \n",
    "}"
   ]
  },
  {
   "cell_type": "markdown",
   "metadata": {},
   "source": [
    "## Model Evaluation"
   ]
  },
  {
   "cell_type": "code",
   "execution_count": 21,
   "metadata": {},
   "outputs": [],
   "source": [
    "from sklearn.metrics import accuracy_score, precision_score\n",
    "def train_classifier(clfs, X_train, y_train, X_test, y_test):\n",
    "    clfs.fit(X_train,y_train)\n",
    "    y_pred = clfs.predict(X_test)\n",
    "    accuracy = accuracy_score(y_test, y_pred)\n",
    "    precision = precision_score(y_test, y_pred)\n",
    "    return accuracy , precision"
   ]
  },
  {
   "cell_type": "code",
   "execution_count": 22,
   "metadata": {},
   "outputs": [
    {
     "name": "stdout",
     "output_type": "stream",
     "text": [
      "\n",
      "For:  SVC\n",
      "Accuracy:  0.9661508704061895\n",
      "Precision:  0.9327731092436975\n",
      "\n",
      "For:  KNN\n",
      "Accuracy:  0.9274661508704062\n",
      "Precision:  1.0\n",
      "\n",
      "For:  NB\n",
      "Accuracy:  0.9709864603481625\n",
      "Precision:  0.9655172413793104\n",
      "\n",
      "For:  DT\n",
      "Accuracy:  0.9381044487427466\n",
      "Precision:  0.9021739130434783\n",
      "\n",
      "For:  LR\n",
      "Accuracy:  0.9632495164410058\n",
      "Precision:  0.9629629629629629\n",
      "\n",
      "For:  RF\n",
      "Accuracy:  0.971953578336557\n",
      "Precision:  0.943089430894309\n",
      "\n",
      "For:  Adaboost\n",
      "Accuracy:  0.9613152804642167\n",
      "Precision:  0.9375\n",
      "\n",
      "For:  Bgc\n",
      "Accuracy:  0.965183752417795\n",
      "Precision:  0.9180327868852459\n",
      "\n",
      "For:  ETC\n",
      "Accuracy:  0.9729206963249516\n",
      "Precision:  0.9296875\n",
      "\n",
      "For:  GBDT\n",
      "Accuracy:  0.9506769825918762\n",
      "Precision:  0.9393939393939394\n",
      "\n",
      "For:  xgb\n",
      "Accuracy:  0.9709864603481625\n",
      "Precision:  0.9576271186440678\n"
     ]
    }
   ],
   "source": [
    "accuracy_scores = []\n",
    "precision_scores = []\n",
    "for name , clfs in clfs.items():\n",
    "    current_accuracy, current_precision = train_classifier(clfs, X_train, y_train, X_test, y_test)\n",
    "    print()\n",
    "    print(\"For: \", name)\n",
    "    print(\"Accuracy: \", current_accuracy)\n",
    "    print(\"Precision: \", current_precision)\n",
    "    \n",
    "    accuracy_scores.append(current_accuracy)\n",
    "    precision_scores.append(current_precision)"
   ]
  }
 ],
 "metadata": {
  "kernelspec": {
   "display_name": "base",
   "language": "python",
   "name": "python3"
  },
  "language_info": {
   "codemirror_mode": {
    "name": "ipython",
    "version": 3
   },
   "file_extension": ".py",
   "mimetype": "text/x-python",
   "name": "python",
   "nbconvert_exporter": "python",
   "pygments_lexer": "ipython3",
   "version": "3.12.7"
  }
 },
 "nbformat": 4,
 "nbformat_minor": 2
}
